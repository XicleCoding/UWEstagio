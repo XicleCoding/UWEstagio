{
 "cells": [
  {
   "cell_type": "code",
   "execution_count": 7,
   "metadata": {},
   "outputs": [],
   "source": [
    "import pandas as pd\n",
    "import transformers\n",
    "from transformers import pipeline, AutoTokenizer, AutoModelForSequenceClassification\n",
    "import nltk\n",
    "from nlp_utils import *\n",
    "from sklearn.metrics import accuracy_score, precision_score, recall_score, f1_score, confusion_matrix\n",
    "import seaborn as sn"
   ]
  },
  {
   "cell_type": "code",
   "execution_count": 8,
   "metadata": {},
   "outputs": [],
   "source": [
    "#BART_classifier = transformers.pipeline('zero-shot-classification', model='facebook/bart-large-mnli')\n",
    "#mDeBERTa_classifier = transformers.pipeline(\"zero-shot-classification\", model=\"MoritzLaurer/mDeBERTa-v3-base-mnli-xnli\")\n",
    "#tokenizer = AutoTokenizer.from_pretrained(\"AyoubChLin/Bart-MNLI-CNN_news\")\n",
    "'''\n",
    "model = AutoModelForSequenceClassification.from_pretrained(\"AyoubChLin/Bart-MNLI-CNN_news\")\n",
    "classifier = transformers.pipeline(\n",
    "    \"zero-shot-classification\",\n",
    "    model=model,\n",
    "    tokenizer=tokenizer,\n",
    "    device='cpu'\n",
    ")'''\n",
    "classifier = transformers.pipeline(\"zero-shot-classification\", \n",
    "                       model=\"vicgalle/xlm-roberta-large-xnli-anli\")"
   ]
  },
  {
   "cell_type": "code",
   "execution_count": 9,
   "metadata": {},
   "outputs": [
    {
     "data": {
      "text/plain": [
       "3144"
      ]
     },
     "execution_count": 9,
     "metadata": {},
     "output_type": "execute_result"
    }
   ],
   "source": [
    "df=pd.read_csv('datasets/US_stocks.csv')\n",
    "\n",
    "#df=df.drop(['publish_date'], axis=1)\n",
    "#df=df[df[\"headline_category\"].str.contains(\"unkown\") == False]\n",
    "df.shape[0]"
   ]
  },
  {
   "cell_type": "code",
   "execution_count": 10,
   "metadata": {},
   "outputs": [],
   "source": [
    "labels = df['Industry Group'].unique()\n",
    "sentences = df['Description'].head(n=500)\n",
    "df=df.head(n=500)\n",
    "#sentences = bart(sentences,150)\n",
    "\n"
   ]
  },
  {
   "cell_type": "code",
   "execution_count": 11,
   "metadata": {},
   "outputs": [],
   "source": [
    "#prediction = [BART_classifier(sentence, labels, multi_label=False) for sentence in sentences]"
   ]
  },
  {
   "cell_type": "code",
   "execution_count": 12,
   "metadata": {},
   "outputs": [],
   "source": [
    "#predicted_label=[]\n",
    "#for i in range(df.shape[0]):    \n",
    "#    predicted_label.append(prediction[i]['labels'][0])\n",
    "#\n",
    "#df['Predicted Label'] = predicted_label\n",
    "#\n",
    "#df.head(n=1)"
   ]
  },
  {
   "cell_type": "code",
   "execution_count": 13,
   "metadata": {},
   "outputs": [],
   "source": [
    "#prediction = [mDeBERTa_classifier(sentence, labels, multi_label=True) for sentence in sentences]\n",
    "prediction = [classifier(sentence, labels, multi_label=True) for sentence in sentences]"
   ]
  },
  {
   "cell_type": "code",
   "execution_count": null,
   "metadata": {},
   "outputs": [
    {
     "data": {
      "text/html": [
       "<div>\n",
       "<style scoped>\n",
       "    .dataframe tbody tr th:only-of-type {\n",
       "        vertical-align: middle;\n",
       "    }\n",
       "\n",
       "    .dataframe tbody tr th {\n",
       "        vertical-align: top;\n",
       "    }\n",
       "\n",
       "    .dataframe thead th {\n",
       "        text-align: right;\n",
       "    }\n",
       "</style>\n",
       "<table border=\"1\" class=\"dataframe\">\n",
       "  <thead>\n",
       "    <tr style=\"text-align: right;\">\n",
       "      <th></th>\n",
       "      <th>Ticker</th>\n",
       "      <th>Description</th>\n",
       "      <th>Company Name</th>\n",
       "      <th>Sector</th>\n",
       "      <th>Industry Group</th>\n",
       "      <th>Industry</th>\n",
       "      <th>Sub-Industry</th>\n",
       "      <th>Comment</th>\n",
       "      <th>Predicted Label</th>\n",
       "    </tr>\n",
       "  </thead>\n",
       "  <tbody>\n",
       "    <tr>\n",
       "      <th>0</th>\n",
       "      <td>CTVA</td>\n",
       "      <td>Corteva, Inc. is a global provider of seed and...</td>\n",
       "      <td>CORTEVA INC</td>\n",
       "      <td>Materials</td>\n",
       "      <td>Materials</td>\n",
       "      <td>Chemicals</td>\n",
       "      <td>Fertilizers &amp; Agricultural Chemicals</td>\n",
       "      <td>Producers of fertilizers, pesticides, potash o...</td>\n",
       "      <td>Diversified Financials</td>\n",
       "    </tr>\n",
       "    <tr>\n",
       "      <th>1</th>\n",
       "      <td>ALCO</td>\n",
       "      <td>Alico, Inc. is an agribusiness and land manage...</td>\n",
       "      <td>ALICO INC</td>\n",
       "      <td>Consumer Staples</td>\n",
       "      <td>Food, Beverage &amp; Tobacco</td>\n",
       "      <td>Food Products</td>\n",
       "      <td>Agricultural Products</td>\n",
       "      <td>Producers of agricultural products. Includes c...</td>\n",
       "      <td>Consumer Services</td>\n",
       "    </tr>\n",
       "    <tr>\n",
       "      <th>2</th>\n",
       "      <td>LMNR</td>\n",
       "      <td>Limoneira Company is primarily an agribusiness...</td>\n",
       "      <td>LIMONEIRA CO</td>\n",
       "      <td>Consumer Staples</td>\n",
       "      <td>Food, Beverage &amp; Tobacco</td>\n",
       "      <td>Food Products</td>\n",
       "      <td>Agricultural Products</td>\n",
       "      <td>Producers of agricultural products. Includes c...</td>\n",
       "      <td>Real Estate</td>\n",
       "    </tr>\n",
       "    <tr>\n",
       "      <th>3</th>\n",
       "      <td>SANW</td>\n",
       "      <td>S&amp;W Seed Company (S&amp;W) is a multi-crop and mid...</td>\n",
       "      <td>S&amp;W SEED CO</td>\n",
       "      <td>Consumer Staples</td>\n",
       "      <td>Food, Beverage &amp; Tobacco</td>\n",
       "      <td>Food Products</td>\n",
       "      <td>Agricultural Products</td>\n",
       "      <td>Producers of agricultural products. Includes c...</td>\n",
       "      <td>Diversified Financials</td>\n",
       "    </tr>\n",
       "    <tr>\n",
       "      <th>4</th>\n",
       "      <td>TRC</td>\n",
       "      <td>Tejon Ranch Co. is a diversified real estate d...</td>\n",
       "      <td>TEJON RANCH CO</td>\n",
       "      <td>Real Estate</td>\n",
       "      <td>Real Estate</td>\n",
       "      <td>Real Estate Management &amp; Development</td>\n",
       "      <td>Diversified Real Estate Activities</td>\n",
       "      <td>Companies engaged in a diverse spectrum of rea...</td>\n",
       "      <td>Diversified Financials</td>\n",
       "    </tr>\n",
       "    <tr>\n",
       "      <th>5</th>\n",
       "      <td>CALM</td>\n",
       "      <td>Cal-Maine Foods, Inc. is a producer and distri...</td>\n",
       "      <td>CAL-MAINE FOODS INC</td>\n",
       "      <td>Consumer Staples</td>\n",
       "      <td>Food, Beverage &amp; Tobacco</td>\n",
       "      <td>Food Products</td>\n",
       "      <td>Packaged Foods &amp; Meats</td>\n",
       "      <td>Producers of packaged foods including dairy pr...</td>\n",
       "      <td>Diversified Financials</td>\n",
       "    </tr>\n",
       "    <tr>\n",
       "      <th>6</th>\n",
       "      <td>BV</td>\n",
       "      <td>BrightView Holdings, Inc. is a commercial land...</td>\n",
       "      <td>BRIGHTVIEW HOLDINGS</td>\n",
       "      <td>Industrials</td>\n",
       "      <td>Commercial  &amp; Professional Services</td>\n",
       "      <td>Commercial Services &amp; Supplies</td>\n",
       "      <td>Environmental &amp; Facilities Services</td>\n",
       "      <td>Companies providing environmental and faciliti...</td>\n",
       "      <td>Real Estate</td>\n",
       "    </tr>\n",
       "    <tr>\n",
       "      <th>7</th>\n",
       "      <td>CLF</td>\n",
       "      <td>Cleveland-Cliffs Inc. is an integrated mining ...</td>\n",
       "      <td>CLEVELAND-CLIFFS INC</td>\n",
       "      <td>Materials</td>\n",
       "      <td>Materials</td>\n",
       "      <td>Metals &amp; Mining</td>\n",
       "      <td>Steel</td>\n",
       "      <td>Producers of iron and steel and related produc...</td>\n",
       "      <td>Materials</td>\n",
       "    </tr>\n",
       "    <tr>\n",
       "      <th>8</th>\n",
       "      <td>FCX</td>\n",
       "      <td>Freeport-McMoRan Inc. (FCX) is a mining compan...</td>\n",
       "      <td>FREEPORT-MCMORAN INC</td>\n",
       "      <td>Materials</td>\n",
       "      <td>Materials</td>\n",
       "      <td>Metals &amp; Mining</td>\n",
       "      <td>Copper</td>\n",
       "      <td>Companies involved primarily in copper ore min...</td>\n",
       "      <td>Energy</td>\n",
       "    </tr>\n",
       "    <tr>\n",
       "      <th>9</th>\n",
       "      <td>XPL</td>\n",
       "      <td>Solitario Zinc Corp.(Solitario) is a natural r...</td>\n",
       "      <td>SOLITARIO ZINC CORP</td>\n",
       "      <td>Materials</td>\n",
       "      <td>Materials</td>\n",
       "      <td>Metals &amp; Mining</td>\n",
       "      <td>Diversified Metals &amp; Mining</td>\n",
       "      <td>Companies engaged in the diversified productio...</td>\n",
       "      <td>Materials</td>\n",
       "    </tr>\n",
       "  </tbody>\n",
       "</table>\n",
       "</div>"
      ],
      "text/plain": [
       "  Ticker                                        Description  \\\n",
       "0   CTVA  Corteva, Inc. is a global provider of seed and...   \n",
       "1   ALCO  Alico, Inc. is an agribusiness and land manage...   \n",
       "2   LMNR  Limoneira Company is primarily an agribusiness...   \n",
       "3   SANW  S&W Seed Company (S&W) is a multi-crop and mid...   \n",
       "4    TRC  Tejon Ranch Co. is a diversified real estate d...   \n",
       "5   CALM  Cal-Maine Foods, Inc. is a producer and distri...   \n",
       "6     BV  BrightView Holdings, Inc. is a commercial land...   \n",
       "7    CLF  Cleveland-Cliffs Inc. is an integrated mining ...   \n",
       "8    FCX  Freeport-McMoRan Inc. (FCX) is a mining compan...   \n",
       "9    XPL  Solitario Zinc Corp.(Solitario) is a natural r...   \n",
       "\n",
       "           Company Name            Sector  \\\n",
       "0           CORTEVA INC         Materials   \n",
       "1             ALICO INC  Consumer Staples   \n",
       "2          LIMONEIRA CO  Consumer Staples   \n",
       "3           S&W SEED CO  Consumer Staples   \n",
       "4        TEJON RANCH CO       Real Estate   \n",
       "5   CAL-MAINE FOODS INC  Consumer Staples   \n",
       "6   BRIGHTVIEW HOLDINGS       Industrials   \n",
       "7  CLEVELAND-CLIFFS INC         Materials   \n",
       "8  FREEPORT-MCMORAN INC         Materials   \n",
       "9   SOLITARIO ZINC CORP         Materials   \n",
       "\n",
       "                        Industry Group                              Industry  \\\n",
       "0                            Materials                             Chemicals   \n",
       "1             Food, Beverage & Tobacco                         Food Products   \n",
       "2             Food, Beverage & Tobacco                         Food Products   \n",
       "3             Food, Beverage & Tobacco                         Food Products   \n",
       "4                          Real Estate  Real Estate Management & Development   \n",
       "5             Food, Beverage & Tobacco                         Food Products   \n",
       "6  Commercial  & Professional Services        Commercial Services & Supplies   \n",
       "7                            Materials                       Metals & Mining   \n",
       "8                            Materials                       Metals & Mining   \n",
       "9                            Materials                       Metals & Mining   \n",
       "\n",
       "                           Sub-Industry  \\\n",
       "0  Fertilizers & Agricultural Chemicals   \n",
       "1                 Agricultural Products   \n",
       "2                 Agricultural Products   \n",
       "3                 Agricultural Products   \n",
       "4   Diversified Real Estate Activities    \n",
       "5                Packaged Foods & Meats   \n",
       "6   Environmental & Facilities Services   \n",
       "7                                 Steel   \n",
       "8                                Copper   \n",
       "9           Diversified Metals & Mining   \n",
       "\n",
       "                                             Comment         Predicted Label  \n",
       "0  Producers of fertilizers, pesticides, potash o...  Diversified Financials  \n",
       "1  Producers of agricultural products. Includes c...       Consumer Services  \n",
       "2  Producers of agricultural products. Includes c...             Real Estate  \n",
       "3  Producers of agricultural products. Includes c...  Diversified Financials  \n",
       "4  Companies engaged in a diverse spectrum of rea...  Diversified Financials  \n",
       "5  Producers of packaged foods including dairy pr...  Diversified Financials  \n",
       "6  Companies providing environmental and faciliti...             Real Estate  \n",
       "7  Producers of iron and steel and related produc...               Materials  \n",
       "8  Companies involved primarily in copper ore min...                  Energy  \n",
       "9  Companies engaged in the diversified productio...               Materials  "
      ]
     },
     "execution_count": 8,
     "metadata": {},
     "output_type": "execute_result"
    }
   ],
   "source": [
    "predicted_label=[prediction[i]['labels'][0] for i in range(df.shape[0])]\n",
    "df['Predicted Label'] = predicted_label\n",
    "df.head(n=10)"
   ]
  },
  {
   "cell_type": "code",
   "execution_count": null,
   "metadata": {},
   "outputs": [
    {
     "ename": "ValueError",
     "evalue": "Shape of passed values is (22, 22), indices imply (24, 24)",
     "output_type": "error",
     "traceback": [
      "\u001b[1;31m---------------------------------------------------------------------------\u001b[0m",
      "\u001b[1;31mValueError\u001b[0m                                Traceback (most recent call last)",
      "\u001b[1;32m<ipython-input-9-3e67a8bd4214>\u001b[0m in \u001b[0;36m<module>\u001b[1;34m\u001b[0m\n\u001b[0;32m      1\u001b[0m \u001b[0mcm\u001b[0m\u001b[1;33m=\u001b[0m\u001b[0mconfusion_matrix\u001b[0m\u001b[1;33m(\u001b[0m\u001b[0mdf\u001b[0m\u001b[1;33m[\u001b[0m\u001b[1;34m'Industry Group'\u001b[0m\u001b[1;33m]\u001b[0m\u001b[1;33m,\u001b[0m\u001b[0mdf\u001b[0m\u001b[1;33m[\u001b[0m\u001b[1;34m'Predicted Label'\u001b[0m\u001b[1;33m]\u001b[0m\u001b[1;33m)\u001b[0m\u001b[1;33m\u001b[0m\u001b[1;33m\u001b[0m\u001b[0m\n\u001b[1;32m----> 2\u001b[1;33m cm=pd.DataFrame(cm,index = [i for i in labels],\n\u001b[0m\u001b[0;32m      3\u001b[0m                   columns = [i for i in labels])\n\u001b[0;32m      4\u001b[0m \u001b[0msn\u001b[0m\u001b[1;33m.\u001b[0m\u001b[0mheatmap\u001b[0m\u001b[1;33m(\u001b[0m\u001b[0mcm\u001b[0m\u001b[1;33m,\u001b[0m \u001b[0mannot\u001b[0m\u001b[1;33m=\u001b[0m\u001b[1;32mTrue\u001b[0m\u001b[1;33m,\u001b[0m\u001b[0mannot_kws\u001b[0m\u001b[1;33m=\u001b[0m\u001b[1;33m{\u001b[0m\u001b[1;34m\"size\"\u001b[0m\u001b[1;33m:\u001b[0m \u001b[1;36m8\u001b[0m\u001b[1;33m}\u001b[0m\u001b[1;33m)\u001b[0m\u001b[1;33m\u001b[0m\u001b[1;33m\u001b[0m\u001b[0m\n",
      "\u001b[1;32m~\\AppData\\Local\\Packages\\PythonSoftwareFoundation.Python.3.9_qbz5n2kfra8p0\\LocalCache\\local-packages\\Python39\\site-packages\\pandas\\core\\frame.py\u001b[0m in \u001b[0;36m__init__\u001b[1;34m(self, data, index, columns, dtype, copy)\u001b[0m\n\u001b[0;32m    756\u001b[0m                 )\n\u001b[0;32m    757\u001b[0m             \u001b[1;32melse\u001b[0m\u001b[1;33m:\u001b[0m\u001b[1;33m\u001b[0m\u001b[1;33m\u001b[0m\u001b[0m\n\u001b[1;32m--> 758\u001b[1;33m                 mgr = ndarray_to_mgr(\n\u001b[0m\u001b[0;32m    759\u001b[0m                     \u001b[0mdata\u001b[0m\u001b[1;33m,\u001b[0m\u001b[1;33m\u001b[0m\u001b[1;33m\u001b[0m\u001b[0m\n\u001b[0;32m    760\u001b[0m                     \u001b[0mindex\u001b[0m\u001b[1;33m,\u001b[0m\u001b[1;33m\u001b[0m\u001b[1;33m\u001b[0m\u001b[0m\n",
      "\u001b[1;32m~\\AppData\\Local\\Packages\\PythonSoftwareFoundation.Python.3.9_qbz5n2kfra8p0\\LocalCache\\local-packages\\Python39\\site-packages\\pandas\\core\\internals\\construction.py\u001b[0m in \u001b[0;36mndarray_to_mgr\u001b[1;34m(values, index, columns, dtype, copy, typ)\u001b[0m\n\u001b[0;32m    335\u001b[0m     )\n\u001b[0;32m    336\u001b[0m \u001b[1;33m\u001b[0m\u001b[0m\n\u001b[1;32m--> 337\u001b[1;33m     \u001b[0m_check_values_indices_shape_match\u001b[0m\u001b[1;33m(\u001b[0m\u001b[0mvalues\u001b[0m\u001b[1;33m,\u001b[0m \u001b[0mindex\u001b[0m\u001b[1;33m,\u001b[0m \u001b[0mcolumns\u001b[0m\u001b[1;33m)\u001b[0m\u001b[1;33m\u001b[0m\u001b[1;33m\u001b[0m\u001b[0m\n\u001b[0m\u001b[0;32m    338\u001b[0m \u001b[1;33m\u001b[0m\u001b[0m\n\u001b[0;32m    339\u001b[0m     \u001b[1;32mif\u001b[0m \u001b[0mtyp\u001b[0m \u001b[1;33m==\u001b[0m \u001b[1;34m\"array\"\u001b[0m\u001b[1;33m:\u001b[0m\u001b[1;33m\u001b[0m\u001b[1;33m\u001b[0m\u001b[0m\n",
      "\u001b[1;32m~\\AppData\\Local\\Packages\\PythonSoftwareFoundation.Python.3.9_qbz5n2kfra8p0\\LocalCache\\local-packages\\Python39\\site-packages\\pandas\\core\\internals\\construction.py\u001b[0m in \u001b[0;36m_check_values_indices_shape_match\u001b[1;34m(values, index, columns)\u001b[0m\n\u001b[0;32m    406\u001b[0m         \u001b[0mpassed\u001b[0m \u001b[1;33m=\u001b[0m \u001b[0mvalues\u001b[0m\u001b[1;33m.\u001b[0m\u001b[0mshape\u001b[0m\u001b[1;33m\u001b[0m\u001b[1;33m\u001b[0m\u001b[0m\n\u001b[0;32m    407\u001b[0m         \u001b[0mimplied\u001b[0m \u001b[1;33m=\u001b[0m \u001b[1;33m(\u001b[0m\u001b[0mlen\u001b[0m\u001b[1;33m(\u001b[0m\u001b[0mindex\u001b[0m\u001b[1;33m)\u001b[0m\u001b[1;33m,\u001b[0m \u001b[0mlen\u001b[0m\u001b[1;33m(\u001b[0m\u001b[0mcolumns\u001b[0m\u001b[1;33m)\u001b[0m\u001b[1;33m)\u001b[0m\u001b[1;33m\u001b[0m\u001b[1;33m\u001b[0m\u001b[0m\n\u001b[1;32m--> 408\u001b[1;33m         \u001b[1;32mraise\u001b[0m \u001b[0mValueError\u001b[0m\u001b[1;33m(\u001b[0m\u001b[1;34mf\"Shape of passed values is {passed}, indices imply {implied}\"\u001b[0m\u001b[1;33m)\u001b[0m\u001b[1;33m\u001b[0m\u001b[1;33m\u001b[0m\u001b[0m\n\u001b[0m\u001b[0;32m    409\u001b[0m \u001b[1;33m\u001b[0m\u001b[0m\n\u001b[0;32m    410\u001b[0m \u001b[1;33m\u001b[0m\u001b[0m\n",
      "\u001b[1;31mValueError\u001b[0m: Shape of passed values is (22, 22), indices imply (24, 24)"
     ]
    }
   ],
   "source": [
    "cm=confusion_matrix(df['Industry Group'],df['Predicted Label'])\n",
    "cm=pd.DataFrame(cm,index = [i for i in labels],\n",
    "                  columns = [i for i in labels])\n",
    "sn.heatmap(cm, annot=True,annot_kws={\"size\": 8})"
   ]
  },
  {
   "cell_type": "code",
   "execution_count": null,
   "metadata": {},
   "outputs": [
    {
     "name": "stdout",
     "output_type": "stream",
     "text": [
      "Accuracy: 0.172\n",
      "Precision: 0.3857014685314685\n",
      "Recall: 0.172\n",
      "F1 Score: 0.20531211876617195\n"
     ]
    },
    {
     "name": "stderr",
     "output_type": "stream",
     "text": [
      "C:\\Users\\hugor\\AppData\\Local\\Packages\\PythonSoftwareFoundation.Python.3.9_qbz5n2kfra8p0\\LocalCache\\local-packages\\Python39\\site-packages\\sklearn\\metrics\\_classification.py:1469: UndefinedMetricWarning: Recall is ill-defined and being set to 0.0 in labels with no true samples. Use `zero_division` parameter to control this behavior.\n",
      "  _warn_prf(average, modifier, msg_start, len(result))\n"
     ]
    }
   ],
   "source": [
    "accuracy = accuracy_score(df['Industry Group'], df['Predicted Label'])\n",
    "precision = precision_score(df['Industry Group'], df['Predicted Label'],average='weighted')\n",
    "recall = recall_score(df['Industry Group'], df['Predicted Label'],average='weighted')\n",
    "f1 = f1_score(df['Industry Group'], df['Predicted Label'],average='weighted')\n",
    "\n",
    "print(\"Accuracy:\", accuracy)\n",
    "print(\"Precision:\", precision)\n",
    "print(\"Recall:\", recall)\n",
    "print(\"F1 Score:\", f1)"
   ]
  }
 ],
 "metadata": {
  "kernelspec": {
   "display_name": "Python 3",
   "language": "python",
   "name": "python3"
  },
  "language_info": {
   "codemirror_mode": {
    "name": "ipython",
    "version": 3
   },
   "file_extension": ".py",
   "mimetype": "text/x-python",
   "name": "python",
   "nbconvert_exporter": "python",
   "pygments_lexer": "ipython3",
   "version": "3.9.13"
  },
  "orig_nbformat": 4
 },
 "nbformat": 4,
 "nbformat_minor": 2
}
