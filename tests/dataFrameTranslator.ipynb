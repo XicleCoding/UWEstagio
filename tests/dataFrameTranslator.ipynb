{
 "cells": [
  {
   "cell_type": "code",
   "execution_count": 1,
   "metadata": {},
   "outputs": [
    {
     "name": "stderr",
     "output_type": "stream",
     "text": [
      "c:\\Users\\User\\.conda\\envs\\UW\\lib\\site-packages\\numpy\\_distributor_init.py:30: UserWarning: loaded more than 1 DLL from .libs:\n",
      "c:\\Users\\User\\.conda\\envs\\UW\\lib\\site-packages\\numpy\\.libs\\libopenblas64__v0.3.21-gcc_10_3_0.dll\n",
      "c:\\Users\\User\\.conda\\envs\\UW\\lib\\site-packages\\numpy\\.libs\\libopenblas64__v0.3.23-gcc_10_3_0.dll\n",
      "  warnings.warn(\"loaded more than 1 DLL from .libs:\"\n"
     ]
    }
   ],
   "source": [
    "from googletrans import Translator\n",
    "import pandas as pd"
   ]
  },
  {
   "cell_type": "code",
   "execution_count": 2,
   "metadata": {},
   "outputs": [],
   "source": [
    "#LOAD DATAFRAME AND FILTER\n",
    "US_stocks_df = pd.read_csv('datasets/US_stocks.csv')\n",
    "US_stocks_df.drop(['Ticker', 'Company Name', 'Comment'], inplace=True, axis=1)\n",
    "US_stocks_sector_df = US_stocks_df.drop(['Industry Group', 'Industry', 'Sub-Industry'], axis=1)\n",
    "US_stocks_sector_df.to_csv('datasets/US_stocks_sectors.csv', index=False)"
   ]
  },
  {
   "cell_type": "code",
   "execution_count": 3,
   "metadata": {},
   "outputs": [
    {
     "data": {
      "text/plain": [
       "{'Materials': 0,\n",
       " 'Consumer Staples': 0,\n",
       " 'Real Estate': 0,\n",
       " 'Industrials': 0,\n",
       " 'Energy': 0,\n",
       " 'Consumer Discretionary': 0,\n",
       " 'Information Technology': 0,\n",
       " 'Communication Services': 0,\n",
       " 'Financials': 0,\n",
       " 'Health Care': 0,\n",
       " 'Utilities': 0}"
      ]
     },
     "execution_count": 3,
     "metadata": {},
     "output_type": "execute_result"
    }
   ],
   "source": [
    "#DICTIONARY TO COUNT SECTORS AND BALANCE THE FINAL DF\n",
    "sector_dic_count={}\n",
    "\n",
    "sector_lst = US_stocks_sector_df['Sector'].unique()\n",
    "\n",
    "for sector in sector_lst:\n",
    "    sector_dic_count[sector] = 0\n",
    "\n",
    "#sector_dic_count\n"
   ]
  },
  {
   "cell_type": "code",
   "execution_count": 4,
   "metadata": {},
   "outputs": [],
   "source": [
    "#BUILDING THE DIC TO AFTER TRANSFORM INTO DATAFRAME\n",
    "dic_df={\n",
    "    'Description': [],\n",
    "    'Sector': []\n",
    "}\n",
    "\n",
    "for idx, row in US_stocks_sector_df.iterrows():\n",
    "    if sector_dic_count[row['Sector']] < 10:\n",
    "        dic_df['Description'].append(row['Description'])\n",
    "        dic_df['Sector'].append(row['Sector'])\n",
    "        sector_dic_count[row['Sector']]+=1\n",
    "    #print(f\"Sector: {row['Sector']} - Dic Value: {sector_dic_count[row['Sector']]}\")"
   ]
  },
  {
   "cell_type": "code",
   "execution_count": 5,
   "metadata": {},
   "outputs": [],
   "source": [
    "#dic_df"
   ]
  },
  {
   "cell_type": "code",
   "execution_count": 6,
   "metadata": {},
   "outputs": [],
   "source": [
    "#sector_dic_count"
   ]
  },
  {
   "cell_type": "code",
   "execution_count": 7,
   "metadata": {},
   "outputs": [],
   "source": [
    "US_stocks_sector_balanced_df = pd.DataFrame(dic_df)"
   ]
  },
  {
   "cell_type": "code",
   "execution_count": 8,
   "metadata": {},
   "outputs": [
    {
     "data": {
      "text/html": [
       "<div>\n",
       "<style scoped>\n",
       "    .dataframe tbody tr th:only-of-type {\n",
       "        vertical-align: middle;\n",
       "    }\n",
       "\n",
       "    .dataframe tbody tr th {\n",
       "        vertical-align: top;\n",
       "    }\n",
       "\n",
       "    .dataframe thead th {\n",
       "        text-align: right;\n",
       "    }\n",
       "</style>\n",
       "<table border=\"1\" class=\"dataframe\">\n",
       "  <thead>\n",
       "    <tr style=\"text-align: right;\">\n",
       "      <th></th>\n",
       "      <th>Description</th>\n",
       "      <th>Sector</th>\n",
       "    </tr>\n",
       "  </thead>\n",
       "  <tbody>\n",
       "    <tr>\n",
       "      <th>0</th>\n",
       "      <td>Corteva, Inc. is a global provider of seed and...</td>\n",
       "      <td>Materials</td>\n",
       "    </tr>\n",
       "    <tr>\n",
       "      <th>1</th>\n",
       "      <td>Alico, Inc. is an agribusiness and land manage...</td>\n",
       "      <td>Consumer Staples</td>\n",
       "    </tr>\n",
       "    <tr>\n",
       "      <th>2</th>\n",
       "      <td>Limoneira Company is primarily an agribusiness...</td>\n",
       "      <td>Consumer Staples</td>\n",
       "    </tr>\n",
       "    <tr>\n",
       "      <th>3</th>\n",
       "      <td>S&amp;W Seed Company (S&amp;W) is a multi-crop and mid...</td>\n",
       "      <td>Consumer Staples</td>\n",
       "    </tr>\n",
       "    <tr>\n",
       "      <th>4</th>\n",
       "      <td>Tejon Ranch Co. is a diversified real estate d...</td>\n",
       "      <td>Real Estate</td>\n",
       "    </tr>\n",
       "    <tr>\n",
       "      <th>...</th>\n",
       "      <td>...</td>\n",
       "      <td>...</td>\n",
       "    </tr>\n",
       "    <tr>\n",
       "      <th>105</th>\n",
       "      <td>CTO Realty Growth, Inc. is a real estate inves...</td>\n",
       "      <td>Real Estate</td>\n",
       "    </tr>\n",
       "    <tr>\n",
       "      <th>106</th>\n",
       "      <td>Kennedy-Wilson Holdings, Inc. is a real estate...</td>\n",
       "      <td>Real Estate</td>\n",
       "    </tr>\n",
       "    <tr>\n",
       "      <th>107</th>\n",
       "      <td>FRP Holdings, Inc. is a holding company, which...</td>\n",
       "      <td>Real Estate</td>\n",
       "    </tr>\n",
       "    <tr>\n",
       "      <th>108</th>\n",
       "      <td>Gyrodyne, LLC is engaged in the business of in...</td>\n",
       "      <td>Real Estate</td>\n",
       "    </tr>\n",
       "    <tr>\n",
       "      <th>109</th>\n",
       "      <td>J.W. Mays, Inc. operates a range of commercial...</td>\n",
       "      <td>Real Estate</td>\n",
       "    </tr>\n",
       "  </tbody>\n",
       "</table>\n",
       "<p>110 rows × 2 columns</p>\n",
       "</div>"
      ],
      "text/plain": [
       "                                           Description            Sector\n",
       "0    Corteva, Inc. is a global provider of seed and...         Materials\n",
       "1    Alico, Inc. is an agribusiness and land manage...  Consumer Staples\n",
       "2    Limoneira Company is primarily an agribusiness...  Consumer Staples\n",
       "3    S&W Seed Company (S&W) is a multi-crop and mid...  Consumer Staples\n",
       "4    Tejon Ranch Co. is a diversified real estate d...       Real Estate\n",
       "..                                                 ...               ...\n",
       "105  CTO Realty Growth, Inc. is a real estate inves...       Real Estate\n",
       "106  Kennedy-Wilson Holdings, Inc. is a real estate...       Real Estate\n",
       "107  FRP Holdings, Inc. is a holding company, which...       Real Estate\n",
       "108  Gyrodyne, LLC is engaged in the business of in...       Real Estate\n",
       "109  J.W. Mays, Inc. operates a range of commercial...       Real Estate\n",
       "\n",
       "[110 rows x 2 columns]"
      ]
     },
     "execution_count": 8,
     "metadata": {},
     "output_type": "execute_result"
    }
   ],
   "source": [
    "US_stocks_sector_balanced_df"
   ]
  },
  {
   "cell_type": "code",
   "execution_count": 9,
   "metadata": {},
   "outputs": [],
   "source": [
    "#SAVE THE BALANCED DATAFRAME\n",
    "US_stocks_sector_balanced_df.to_csv('datasets/US_stocks_sector_balanced.csv', index=False)"
   ]
  },
  {
   "cell_type": "code",
   "execution_count": 10,
   "metadata": {},
   "outputs": [
    {
     "data": {
      "text/plain": [
       "\"from googletrans import Translator\\n\\ntranslator = Translator()\\n\\nsectors_description = US_stocks_sector_balanced_df['Description']\\n\\ntype(sectors_description)\\n\\ntranslations = translator.translate(sectors_description, dest='pt')\\nfor translation in translations:\\n    print(translation)\""
      ]
     },
     "execution_count": 10,
     "metadata": {},
     "output_type": "execute_result"
    }
   ],
   "source": [
    "#TRANSLATE THE DATAFRAME\n",
    "'''from googletrans import Translator\n",
    "\n",
    "translator = Translator()\n",
    "\n",
    "sectors_description = US_stocks_sector_balanced_df['Description']\n",
    "\n",
    "type(sectors_description)\n",
    "\n",
    "translations = translator.translate(sectors_description, dest='pt')\n",
    "for translation in translations:\n",
    "    print(translation)'''"
   ]
  },
  {
   "cell_type": "code",
   "execution_count": 11,
   "metadata": {},
   "outputs": [],
   "source": [
    "#HISTOGRAM TO SEE THE LABEL DISTRIBUTION\n",
    "import matplotlib.pyplot\n",
    "\n",
    "def plot_histogram(data):\n",
    "    # Extract the items and their frequencies from the dictionary\n",
    "    items = list(data.keys())\n",
    "    frequencies = list(data.values())\n",
    "\n",
    "    # Create a bar plot using matplotlib\n",
    "    plt.bar(items, frequencies)\n",
    "\n",
    "    # Add labels and title\n",
    "    plt.xlabel('Items')\n",
    "    plt.ylabel('Frequency')\n",
    "    plt.title('Histogram')\n",
    "\n",
    "    # Display the plot\n",
    "    plt.show()"
   ]
  },
  {
   "cell_type": "code",
   "execution_count": 13,
   "metadata": {},
   "outputs": [
    {
     "data": {
      "text/plain": [
       "{'Materials': 128,\n",
       " 'Consumer Staples': 119,\n",
       " 'Real Estate': 176,\n",
       " 'Industrials': 399,\n",
       " 'Energy': 179,\n",
       " 'Consumer Discretionary': 355,\n",
       " 'Information Technology': 390,\n",
       " 'Communication Services': 111,\n",
       " 'Financials': 577,\n",
       " 'Health Care': 638,\n",
       " 'Utilities': 72}"
      ]
     },
     "execution_count": 13,
     "metadata": {},
     "output_type": "execute_result"
    }
   ],
   "source": [
    "#LABEL FREQUENCY\n",
    "label_freq={}\n",
    "\n",
    "df_labels = pd.read_csv('datasets/US_stocks.csv').drop(['Description', 'Ticker', 'Company Name', 'Comment'], inplace=True, axis=1)\n",
    "\n",
    "df_type = US_stocks_sector_df['Sector']\n",
    "\n",
    "df_label_freq = {}\n",
    "\n",
    "for label in df_type:\n",
    "    if label in df_label_freq.keys():\n",
    "        df_label_freq[label]+=1\n",
    "    else:\n",
    "        df_label_freq[label] = 1\n",
    "\n"
   ]
  },
  {
   "cell_type": "code",
   "execution_count": null,
   "metadata": {},
   "outputs": [],
   "source": []
  }
 ],
 "metadata": {
  "kernelspec": {
   "display_name": "UW",
   "language": "python",
   "name": "python3"
  },
  "language_info": {
   "codemirror_mode": {
    "name": "ipython",
    "version": 3
   },
   "file_extension": ".py",
   "mimetype": "text/x-python",
   "name": "python",
   "nbconvert_exporter": "python",
   "pygments_lexer": "ipython3",
   "version": "3.9.17"
  },
  "orig_nbformat": 4
 },
 "nbformat": 4,
 "nbformat_minor": 2
}
