{
 "cells": [
  {
   "cell_type": "code",
   "execution_count": 2,
   "metadata": {},
   "outputs": [],
   "source": [
    "import pandas as pd\n",
    "from transformers import pipeline\n",
    "import nltk"
   ]
  },
  {
   "cell_type": "code",
   "execution_count": 3,
   "metadata": {},
   "outputs": [],
   "source": [
    "BART_classifier = pipeline('zero-shot-classification', model='facebook/bart-large-mnli')\n",
    "#mDeBERTa_classifier = pipeline(\"zero-shot-classification\", model=\"MoritzLaurer/mDeBERTa-v3-base-mnli-xnli\")"
   ]
  },
  {
   "cell_type": "code",
   "execution_count": 5,
   "metadata": {},
   "outputs": [
    {
     "name": "stdout",
     "output_type": "stream",
     "text": [
      "Sectors:11\n",
      "Industry Groups:24\n",
      "Industries:68\n",
      "Sub-Industries:155\n"
     ]
    },
    {
     "data": {
      "text/plain": [
       "995"
      ]
     },
     "execution_count": 5,
     "metadata": {},
     "output_type": "execute_result"
    }
   ],
   "source": [
    "#df=pd.read_csv('india-news-headlines.csv')\n",
    "df2 = pd.read_csv('datasets/US_stocks.csv')\n",
    "\n",
    "df2.drop(['Ticker', 'Company Name', 'Comment'], inplace=True, axis=1)\n",
    "\n",
    "df2_sector = df2.drop(['Industry Group', 'Industry', 'Sub-Industry'], axis=1)\n",
    "df2_industry_group = df2.drop(['Sector', 'Industry', 'Sub-Industry'], axis=1)\n",
    "df2_industry = df2.drop(['Industry Group', 'Sector', 'Sub-Industry'], axis=1)\n",
    "df2_sub_industry = df2.drop(['Industry Group', 'Industry', 'Sector'], axis=1)\n",
    "\n",
    "#df2.head(n=10)\n",
    "#df2_sector.head(n=10)\n",
    "#df2_industry_group.head(n=10)\n",
    "#df2_industry.head(n=10)\n",
    "#df2_sub_industry.head(n=10)\n",
    "#df2_sector.values[0]\n",
    "\n",
    "num_sector=len(df2_sector['Sector'].unique())\n",
    "num_industry_group=len(df2_industry_group['Industry Group'].unique())\n",
    "num_industry=len(df2_industry['Industry'].unique())\n",
    "num_sub_industry=len(df2_sub_industry['Sub-Industry'].unique())\n",
    "\n",
    "print(f'Sectors:{num_sector}\\nIndustry Groups:{num_industry_group}\\nIndustries:{num_industry}\\nSub-Industries:{num_sub_industry}')\n",
    "len(df2_sector['Description'].iloc[0])\n",
    "\n"
   ]
  },
  {
   "cell_type": "code",
   "execution_count": 6,
   "metadata": {},
   "outputs": [
    {
     "ename": "NameError",
     "evalue": "name 'BART_classifier' is not defined",
     "output_type": "error",
     "traceback": [
      "\u001b[1;31m---------------------------------------------------------------------------\u001b[0m",
      "\u001b[1;31mNameError\u001b[0m                                 Traceback (most recent call last)",
      "Cell \u001b[1;32mIn[6], line 10\u001b[0m\n\u001b[0;32m      7\u001b[0m predicted_labels\u001b[39m=\u001b[39m[]\n\u001b[0;32m      8\u001b[0m \u001b[39mfor\u001b[39;00m sentence \u001b[39min\u001b[39;00m text:\n\u001b[1;32m---> 10\u001b[0m     prediction \u001b[39m=\u001b[39m BART_classifier(sentence, labels, hypothesis_template\u001b[39m=\u001b[39mhypothesis_template, multi_label\u001b[39m=\u001b[39m\u001b[39mTrue\u001b[39;00m)\n\u001b[0;32m     12\u001b[0m     predicted_labels\u001b[39m.\u001b[39mappend(prediction[\u001b[39m'\u001b[39m\u001b[39mlabels\u001b[39m\u001b[39m'\u001b[39m][\u001b[39m0\u001b[39m])\n",
      "\u001b[1;31mNameError\u001b[0m: name 'BART_classifier' is not defined"
     ]
    }
   ],
   "source": [
    "#Predict Sector with 1st version BART\n",
    "\n",
    "labels = df2_sector['Sector'].unique()\n",
    "text = df2_sector['Description'].head(n=3)\n",
    "\n",
    "hypothesis_template = 'This text is about {}.'\n",
    "predicted_labels=[]\n",
    "for sentence in text:\n",
    "\n",
    "    prediction = BART_classifier(sentence, labels, hypothesis_template=hypothesis_template, multi_label=True)\n",
    "    \n",
    "    predicted_labels.append(prediction['labels'][0])"
   ]
  },
  {
   "cell_type": "code",
   "execution_count": 7,
   "metadata": {},
   "outputs": [
    {
     "name": "stdout",
     "output_type": "stream",
     "text": [
      "                            min        mean      max\n",
      "char_count           145.000000  829.929707  886.000\n",
      "word_count            29.000000  156.594148  212.000\n",
      "sentence_count         2.000000    6.275763   12.000\n",
      "avg_word_length        3.985849    5.319662    6.928\n",
      "avg_sentence_lenght   13.625000   26.273055   90.000\n"
     ]
    }
   ],
   "source": [
    "#Text tests\n",
    "from nlp_utils import *\n",
    "import math\n",
    "\n",
    "#df2_sector['Description'].iloc[0]\n",
    "#df2_sector.iloc[0]\n",
    "dt_text_things = add_text_length(df2_sector, 'Description')\n",
    "#max_len = math.floor(dt_text_things['word_count'].mean())\n",
    "#max_len = dt_text_things['word_count'].m\n",
    "#lst=bart(df2_sector['Description'].iloc[0:3], max_len)\n",
    "\n",
    "#a=nltk.word_tokenize(df2_sector['Description'].iloc[4])\n",
    "#print(len(a))\n",
    "\n"
   ]
  },
  {
   "cell_type": "code",
   "execution_count": 6,
   "metadata": {},
   "outputs": [
    {
     "name": "stderr",
     "output_type": "stream",
     "text": [
      "Downloading (…)lve/main/config.json: 100%|██████████| 1.58k/1.58k [00:00<00:00, 792kB/s]\n",
      "c:\\Users\\User\\.conda\\envs\\UW\\lib\\site-packages\\huggingface_hub\\file_download.py:133: UserWarning: `huggingface_hub` cache-system uses symlinks by default to efficiently store duplicated files but your machine does not support them in C:\\Users\\User\\.cache\\huggingface\\hub. Caching files will still work but in a degraded version that might require more space on your disk. This warning can be disabled by setting the `HF_HUB_DISABLE_SYMLINKS_WARNING` environment variable. For more details, see https://huggingface.co/docs/huggingface_hub/how-to-cache#limitations.\n",
      "To support symlinks on Windows, you either need to activate Developer Mode or to run Python as an administrator. In order to see activate developer mode, see this article: https://docs.microsoft.com/en-us/windows/apps/get-started/enable-your-device-for-development\n",
      "  warnings.warn(message)\n",
      "Downloading pytorch_model.bin: 100%|██████████| 1.63G/1.63G [02:42<00:00, 10.0MB/s]\n",
      "Downloading (…)neration_config.json: 100%|██████████| 363/363 [00:00<00:00, 181kB/s]\n",
      "Downloading (…)olve/main/vocab.json: 100%|██████████| 899k/899k [00:00<00:00, 1.67MB/s]\n",
      "Downloading (…)olve/main/merges.txt: 100%|██████████| 456k/456k [00:00<00:00, 1.35MB/s]\n",
      "Downloading (…)/main/tokenizer.json: 100%|██████████| 1.36M/1.36M [00:00<00:00, 3.18MB/s]\n"
     ]
    }
   ],
   "source": [
    "#Text cleanning\n",
    "\n",
    "#max_len = math.floor(dt_text_things['word_count'].mean())\n",
    "#max_len = dt_text_things['word_count'].min()\n",
    "max_len = 100\n",
    "lst=bart(df2_sector['Description'].head(500), max_len)\n"
   ]
  },
  {
   "cell_type": "code",
   "execution_count": 28,
   "metadata": {},
   "outputs": [
    {
     "name": "stdout",
     "output_type": "stream",
     "text": [
      "--------------------------------------NORMAL TEXT--------------------------------------\n",
      "['Corteva, Inc. is a global provider of seed and crop protection solutions focused on the agriculture industry. Its seed segment is engaged in developing and supplying germplasm and traits that produce optimum yields for farms around the world. This segment offers trait technologies that improve resistance to weather, disease, insects and herbicides used to control weeds, and trait technologies that enhance food and nutritional characteristics, and provides digital solutions that assist farmers in decision-making. Its crop protection segment serves the global agricultural input industry with products that protect against weeds, insects and other pests, and disease, and that improve overall crop health both above and below ground through nitrogen management and seed-applied technologies. This segment provides herbicides, insecticides, nitrogen stabilizers and pasture and range management herbicides. Its portfolio of brands includes CLOSER, DELEGATE, Pioneer, Brevant seeds and others.']\n",
      "\n",
      "--------------------------------------SUMMAR TEXT--------------------------------------\n",
      " Corteva, Inc. is a global provider of seed and crop protection solutions focused on the agriculture industry. Its seed segment is engaged in developing and supplying germplasm and traits that produce optimum yields for farms around the world. Its crop protection segment provides herbicides, insecticides, nitrogen stabilizers and pasture and range management herbicides.\n",
      "\n"
     ]
    }
   ],
   "source": [
    "print(f\"--------------------------------------NORMAL TEXT--------------------------------------\\n{df2_sector['Description'].iloc[0:1].values}\")\n",
    "print()\n",
    "print(f'--------------------------------------SUMMAR TEXT--------------------------------------\\n{lst[0]}')\n",
    "print()"
   ]
  },
  {
   "cell_type": "code",
   "execution_count": 7,
   "metadata": {},
   "outputs": [],
   "source": [
    "df3 = df2.head(500)\n",
    "df3.insert(1,'Description Summarized',lst)\n",
    "df3.to_csv('US_stocks_500_summ_face_bart_large_cnn.csv', index=False)"
   ]
  },
  {
   "cell_type": "code",
   "execution_count": 9,
   "metadata": {},
   "outputs": [
    {
     "name": "stdout",
     "output_type": "stream",
     "text": [
      "Alico, Inc. is an agribusiness and land management company. The Company's principal lines of business are citrus groves and conservation. Its segments include Alico Citrus and Land Management and Other Operations. The company owns approximately 81,000 acres of land and approximately 90,00 acres of mineral rights throughout Florida.\n",
      "Alico, Inc. is an agribusiness and land management company. The Company's principal lines of business are citrus groves and conservation. The Alico Citrus segment owns and manages citrus land in DeSoto, Polk, Collier, Hendry, Charlotte, Highlands, and Hardee Counties in Florida. The Land Management and Other Operations segment is engaged in land leasing for recreational and grazing purposes.\n"
     ]
    }
   ],
   "source": [
    "print(df3['Description Summarized'].iloc[1])\n",
    "print(\"Alico, Inc. is an agribusiness and land management company. The Company's principal lines of business are citrus groves and conservation. The Alico Citrus segment owns and manages citrus land in DeSoto, Polk, Collier, Hendry, Charlotte, Highlands, and Hardee Counties in Florida. The Land Management and Other Operations segment is engaged in land leasing for recreational and grazing purposes.\")\n",
    "#print(df2['Description'].iloc[1])"
   ]
  },
  {
   "cell_type": "code",
   "execution_count": 8,
   "metadata": {},
   "outputs": [],
   "source": [
    "#Predict Sector with 2nd version BART\n",
    "\n",
    "from transformers import pipeline, AutoTokenizer, AutoModelForSequenceClassification\n",
    "import torch\n",
    "\n",
    "tokenizer = AutoTokenizer.from_pretrained(\"AyoubChLin/Bart-MNLI-CNN_news\")\n",
    "\n",
    "model = AutoModelForSequenceClassification.from_pretrained(\"AyoubChLin/Bart-MNLI-CNN_news\")\n",
    "classifier = transformers.pipeline(\n",
    "    \"zero-shot-classification\",\n",
    "    model=model,\n",
    "    tokenizer=tokenizer,\n",
    "    device=torch.device(\"cuda\") if torch.cuda.is_available() else torch.device(\"cpu\")\n",
    ")"
   ]
  },
  {
   "cell_type": "code",
   "execution_count": 12,
   "metadata": {},
   "outputs": [],
   "source": [
    "df_summarized = pd.read_csv('datasets/US_stocks_500_summ_default.csv')\n",
    "labels = df_summarized['Sector'].unique()\n",
    "sentences = df_summarized['Description Summarized'].head(n=500)\n",
    "df=df_summarized.head(n=500)"
   ]
  },
  {
   "cell_type": "code",
   "execution_count": null,
   "metadata": {},
   "outputs": [],
   "source": [
    "prediction = [classifier(sentence, labels, multi_label=True) for sentence in sentences]"
   ]
  },
  {
   "cell_type": "code",
   "execution_count": null,
   "metadata": {},
   "outputs": [],
   "source": [
    "predicted_label=[prediction[i]['labels'][0] for i in range(df_summarized.shape[0])]\n",
    "df_summarized['Predicted Label'] = predicted_label\n",
    "df_summarized.head(n=10)"
   ]
  },
  {
   "cell_type": "code",
   "execution_count": 28,
   "metadata": {},
   "outputs": [
    {
     "name": "stdout",
     "output_type": "stream",
     "text": [
      "['Industrials', 'Industrials', 'Industrials']\n",
      "                                         Description            Sector\n",
      "0  Corteva, Inc. is a global provider of seed and...         Materials\n",
      "1  Alico, Inc. is an agribusiness and land manage...  Consumer Staples\n",
      "2  Limoneira Company is primarily an agribusiness...  Consumer Staples\n"
     ]
    }
   ],
   "source": [
    "print(predicted_labels)\n",
    "print(df2_sector.head(n=3))"
   ]
  }
 ],
 "metadata": {
  "kernelspec": {
   "display_name": "UW",
   "language": "python",
   "name": "python3"
  },
  "language_info": {
   "codemirror_mode": {
    "name": "ipython",
    "version": 3
   },
   "file_extension": ".py",
   "mimetype": "text/x-python",
   "name": "python",
   "nbconvert_exporter": "python",
   "pygments_lexer": "ipython3",
   "version": "3.9.17"
  },
  "orig_nbformat": 4
 },
 "nbformat": 4,
 "nbformat_minor": 2
}
