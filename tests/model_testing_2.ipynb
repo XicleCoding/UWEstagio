{
 "cells": [
  {
   "cell_type": "code",
   "execution_count": 2,
   "metadata": {},
   "outputs": [
    {
     "name": "stderr",
     "output_type": "stream",
     "text": [
      "c:\\Users\\User\\.conda\\envs\\UW\\lib\\site-packages\\numpy\\_distributor_init.py:30: UserWarning: loaded more than 1 DLL from .libs:\n",
      "c:\\Users\\User\\.conda\\envs\\UW\\lib\\site-packages\\numpy\\.libs\\libopenblas64__v0.3.21-gcc_10_3_0.dll\n",
      "c:\\Users\\User\\.conda\\envs\\UW\\lib\\site-packages\\numpy\\.libs\\libopenblas64__v0.3.23-gcc_10_3_0.dll\n",
      "  warnings.warn(\"loaded more than 1 DLL from .libs:\"\n",
      "c:\\Users\\User\\.conda\\envs\\UW\\lib\\site-packages\\tqdm\\auto.py:21: TqdmWarning: IProgress not found. Please update jupyter and ipywidgets. See https://ipywidgets.readthedocs.io/en/stable/user_install.html\n",
      "  from .autonotebook import tqdm as notebook_tqdm\n"
     ]
    }
   ],
   "source": [
    "import pandas as pd\n",
    "from transformers import pipeline\n",
    "import nltk"
   ]
  },
  {
   "cell_type": "code",
   "execution_count": 3,
   "metadata": {},
   "outputs": [],
   "source": [
    "BART_classifier = pipeline('zero-shot-classification', model='facebook/bart-large-mnli')\n",
    "#mDeBERTa_classifier = pipeline(\"zero-shot-classification\", model=\"MoritzLaurer/mDeBERTa-v3-base-mnli-xnli\")"
   ]
  },
  {
   "cell_type": "code",
   "execution_count": 4,
   "metadata": {},
   "outputs": [
    {
     "name": "stdout",
     "output_type": "stream",
     "text": [
      "Sectors:11\n",
      "Industry Groups:24\n",
      "Industries:68\n",
      "Sub-Industries:155\n"
     ]
    },
    {
     "data": {
      "text/plain": [
       "995"
      ]
     },
     "execution_count": 4,
     "metadata": {},
     "output_type": "execute_result"
    }
   ],
   "source": [
    "#df=pd.read_csv('india-news-headlines.csv')\n",
    "df2 = pd.read_csv('datasets/US_stocks.csv')\n",
    "\n",
    "df2.drop(['Ticker', 'Company Name', 'Comment'], inplace=True, axis=1)\n",
    "\n",
    "df2_sector = df2.drop(['Industry Group', 'Industry', 'Sub-Industry'], axis=1)\n",
    "df2_industry_group = df2.drop(['Sector', 'Industry', 'Sub-Industry'], axis=1)\n",
    "df2_industry = df2.drop(['Industry Group', 'Sector', 'Sub-Industry'], axis=1)\n",
    "df2_sub_industry = df2.drop(['Industry Group', 'Industry', 'Sector'], axis=1)\n",
    "\n",
    "#df2.head(n=10)\n",
    "#df2_sector.head(n=10)\n",
    "#df2_industry_group.head(n=10)\n",
    "#df2_industry.head(n=10)\n",
    "#df2_sub_industry.head(n=10)\n",
    "#df2_sector.values[0]\n",
    "\n",
    "num_sector=len(df2_sector['Sector'].unique())\n",
    "num_industry_group=len(df2_industry_group['Industry Group'].unique())\n",
    "num_industry=len(df2_industry['Industry'].unique())\n",
    "num_sub_industry=len(df2_sub_industry['Sub-Industry'].unique())\n",
    "\n",
    "print(f'Sectors:{num_sector}\\nIndustry Groups:{num_industry_group}\\nIndustries:{num_industry}\\nSub-Industries:{num_sub_industry}')\n",
    "len(df2_sector['Description'].iloc[0])\n",
    "\n"
   ]
  },
  {
   "cell_type": "code",
   "execution_count": 22,
   "metadata": {},
   "outputs": [],
   "source": [
    "#Predict Sector with 1st version BART\n",
    "\n",
    "labels = df2_sector['Sector'].unique()\n",
    "text = df2_sector['Description'].head(n=3)\n",
    "\n",
    "hypothesis_template = 'This text is about {}.'\n",
    "predicted_labels=[]\n",
    "for sentence in text:\n",
    "\n",
    "    prediction = BART_classifier(sentence, labels, hypothesis_template=hypothesis_template, multi_label=True)\n",
    "    \n",
    "    predicted_labels.append(prediction['labels'][0])"
   ]
  },
  {
   "cell_type": "code",
   "execution_count": 5,
   "metadata": {},
   "outputs": [
    {
     "name": "stdout",
     "output_type": "stream",
     "text": [
      "                            min        mean      max\n",
      "char_count           145.000000  829.929707  886.000\n",
      "word_count            29.000000  156.594148  212.000\n",
      "sentence_count         2.000000    6.275763   12.000\n",
      "avg_word_length        3.985849    5.319662    6.928\n",
      "avg_sentence_lenght   13.625000   26.273055   90.000\n"
     ]
    },
    {
     "ename": "NameError",
     "evalue": "name 'max_len' is not defined",
     "output_type": "error",
     "traceback": [
      "\u001b[1;31m---------------------------------------------------------------------------\u001b[0m",
      "\u001b[1;31mNameError\u001b[0m                                 Traceback (most recent call last)",
      "Cell \u001b[1;32mIn[5], line 10\u001b[0m\n\u001b[0;32m      7\u001b[0m dt_text_things \u001b[39m=\u001b[39m add_text_length(df2_sector, \u001b[39m'\u001b[39m\u001b[39mDescription\u001b[39m\u001b[39m'\u001b[39m)\n\u001b[0;32m      8\u001b[0m \u001b[39m#max_len = math.floor(dt_text_things['word_count'].mean())\u001b[39;00m\n\u001b[0;32m      9\u001b[0m \u001b[39m#max_len = dt_text_things['word_count'].m\u001b[39;00m\n\u001b[1;32m---> 10\u001b[0m lst\u001b[39m=\u001b[39mbart(df2_sector[\u001b[39m'\u001b[39m\u001b[39mDescription\u001b[39m\u001b[39m'\u001b[39m]\u001b[39m.\u001b[39miloc[\u001b[39m0\u001b[39m:\u001b[39m3\u001b[39m], max_len)\n",
      "\u001b[1;31mNameError\u001b[0m: name 'max_len' is not defined"
     ]
    }
   ],
   "source": [
    "#Text tests\n",
    "from nlp_utils import *\n",
    "import math\n",
    "\n",
    "#df2_sector['Description'].iloc[0]\n",
    "#df2_sector.iloc[0]\n",
    "dt_text_things = add_text_length(df2_sector, 'Description')\n",
    "#max_len = math.floor(dt_text_things['word_count'].mean())\n",
    "max_len = dt_text_things['word_count'].m\n",
    "lst=bart(df2_sector['Description'].iloc[0:3], max_len)\n",
    "\n",
    "#a=nltk.word_tokenize(df2_sector['Description'].iloc[4])\n",
    "#print(len(a))\n",
    "\n"
   ]
  },
  {
   "cell_type": "code",
   "execution_count": 59,
   "metadata": {},
   "outputs": [
    {
     "data": {
      "text/plain": [
       "[' Corteva, Inc. is a global provider of seed and crop protection solutions focused on the agriculture industry. Its seed segment is engaged in developing and supplying germplasm and traits that produce optimum yields for farms around the world. Its crop protection segment provides herbicides, insecticides, nitrogen stabilizers and pasture and range management herbicides.',\n",
       " \" Alico, Inc. is an agribusiness and land management company. The Company's principal lines of business are citrus groves and conservation. The Alico Citrus segment owns and manages citrus land in DeSoto, Polk, Collier, Hendry, Charlotte, Highlands, and Hardee Counties in Florida. The Land Management and Other Operations segment is engaged in land leasing for recreational and grazing purposes.\",\n",
       " ' Limoneira has three business divisions, such as agribusiness, rental operations, and real estate development. It markets and sells citrus directly to food service, wholesale, and retail customers. The rental operations division includes its residential and commercial rentals, leased land operations and organic recycling.']"
      ]
     },
     "execution_count": 59,
     "metadata": {},
     "output_type": "execute_result"
    }
   ],
   "source": [
    "#Text cleanning\n",
    "\n",
    "lst"
   ]
  },
  {
   "cell_type": "code",
   "execution_count": null,
   "metadata": {},
   "outputs": [],
   "source": [
    "#Predict Sector with 2nd version BART\n",
    "\n",
    "from transformers import pipeline, AutoTokenizer, AutoModelForSequenceClassification\n",
    "\n",
    "tokenizer = AutoTokenizer.from_pretrained(\"AyoubChLin/Bart-MNLI-CNN_news\")\n",
    "\n",
    "model = AutoModelForSequenceClassification.from_pretrained(\"AyoubChLin/Bart-MNLI-CNN_news\")\n",
    "classifier = pipeline(\n",
    "    \"zero-shot-classification\",\n",
    "    model=model,\n",
    "    tokenizer=tokenizer,\n",
    "    device=0\n",
    ")"
   ]
  },
  {
   "cell_type": "code",
   "execution_count": 28,
   "metadata": {},
   "outputs": [
    {
     "name": "stdout",
     "output_type": "stream",
     "text": [
      "['Industrials', 'Industrials', 'Industrials']\n",
      "                                         Description            Sector\n",
      "0  Corteva, Inc. is a global provider of seed and...         Materials\n",
      "1  Alico, Inc. is an agribusiness and land manage...  Consumer Staples\n",
      "2  Limoneira Company is primarily an agribusiness...  Consumer Staples\n"
     ]
    }
   ],
   "source": [
    "print(predicted_labels)\n",
    "print(df2_sector.head(n=3))"
   ]
  }
 ],
 "metadata": {
  "kernelspec": {
   "display_name": "UW",
   "language": "python",
   "name": "python3"
  },
  "language_info": {
   "codemirror_mode": {
    "name": "ipython",
    "version": 3
   },
   "file_extension": ".py",
   "mimetype": "text/x-python",
   "name": "python",
   "nbconvert_exporter": "python",
   "pygments_lexer": "ipython3",
   "version": "3.9.17"
  },
  "orig_nbformat": 4
 },
 "nbformat": 4,
 "nbformat_minor": 2
}
